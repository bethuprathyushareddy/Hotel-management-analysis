{
 "cells": [
  {
   "cell_type": "code",
   "execution_count": 1,
   "id": "f3eb9100",
   "metadata": {},
   "outputs": [],
   "source": [
    "#!pip install xgboost\n",
    "#!pip install keras\n",
    "#!pip install lightgbm"
   ]
  },
  {
   "cell_type": "code",
   "execution_count": 2,
   "id": "fb3493e7",
   "metadata": {},
   "outputs": [
    {
     "ename": "ModuleNotFoundError",
     "evalue": "No module named 'sklearn'",
     "output_type": "error",
     "traceback": [
      "\u001b[1;31m---------------------------------------------------------------------------\u001b[0m",
      "\u001b[1;31mModuleNotFoundError\u001b[0m                       Traceback (most recent call last)",
      "Cell \u001b[1;32mIn[2], line 1\u001b[0m\n\u001b[1;32m----> 1\u001b[0m \u001b[38;5;28;01mfrom\u001b[39;00m \u001b[38;5;21;01msklearn\u001b[39;00m\u001b[38;5;21;01m.\u001b[39;00m\u001b[38;5;21;01mnaive_bayes\u001b[39;00m \u001b[38;5;28;01mimport\u001b[39;00m MultinomialNB, GaussianNB\n\u001b[0;32m      2\u001b[0m \u001b[38;5;28;01mfrom\u001b[39;00m \u001b[38;5;21;01msklearn\u001b[39;00m\u001b[38;5;21;01m.\u001b[39;00m\u001b[38;5;21;01mmetrics\u001b[39;00m \u001b[38;5;28;01mimport\u001b[39;00m classification_report, confusion_matrix, accuracy_score\n\u001b[0;32m      3\u001b[0m \u001b[38;5;28;01mfrom\u001b[39;00m \u001b[38;5;21;01msklearn\u001b[39;00m\u001b[38;5;21;01m.\u001b[39;00m\u001b[38;5;21;01mpreprocessing\u001b[39;00m \u001b[38;5;28;01mimport\u001b[39;00m LabelEncoder\n",
      "\u001b[1;31mModuleNotFoundError\u001b[0m: No module named 'sklearn'"
     ]
    }
   ],
   "source": [
    "from sklearn.naive_bayes import MultinomialNB, GaussianNB\n",
    "from sklearn.metrics import classification_report, confusion_matrix, accuracy_score\n",
    "from sklearn.preprocessing import LabelEncoder\n",
    "from imblearn.over_sampling import RandomOverSampler, ADASYN, BorderlineSMOTE\n",
    "from imblearn.under_sampling  import RandomUnderSampler,AllKNN,NearMiss, TomekLinks\n",
    "from sklearn.model_selection import train_test_split\n",
    "from sklearn.linear_model import LogisticRegression\n",
    "from sklearn.ensemble import RandomForestClassifier\n",
    "from xgboost import XGBClassifier\n",
    "from sklearn.model_selection import RandomizedSearchCV, GridSearchCV\n",
    "import keras\n",
    "from keras.preprocessing.text import Tokenizer\n",
    "from keras.preprocessing.sequence import pad_sequences\n",
    "from keras.layers import Embedding, LSTM, Dense\n",
    "from keras.models import Sequential\n",
    "import lightgbm as lgb\n",
    "from lightgbm import LGBMClassifier\n",
    "import nltk\n",
    "#nltk.download('all')\n",
    "import re\n",
    "from nltk.corpus import stopwords\n",
    "from nltk.stem import WordNetLemmatizer\n",
    "\n",
    "import joblib\n",
    "from imblearn.metrics import classification_report_imbalanced\n",
    "from collections import Counter\n",
    "from sklearn.pipeline import Pipeline\n",
    "\n",
    "import pandas as pd\n",
    "import numpy as np\n",
    "import seaborn as sns\n",
    "from sklearn.feature_extraction.text import TfidfVectorizer\n",
    "from sklearn.feature_extraction.text import CountVectorizer\n",
    "import warnings\n",
    "warnings.filterwarnings('ignore')"
   ]
  },
  {
   "cell_type": "code",
   "execution_count": null,
   "id": "a1b9614c",
   "metadata": {},
   "outputs": [],
   "source": [
    "df = pd.read_excel('final.xlsx')"
   ]
  },
  {
   "cell_type": "code",
   "execution_count": null,
   "id": "90a03141",
   "metadata": {},
   "outputs": [],
   "source": [
    "#defining a new column which will serve as label to classify the reviews\n",
    "def label_classify(compound):\n",
    "    if compound>0:\n",
    "        return 'positive'\n",
    "    elif compound<=0:\n",
    "        return 'negative'\n",
    "\n",
    "df['label']= df['compound'].apply(label_classify) "
   ]
  },
  {
   "cell_type": "code",
   "execution_count": 5,
   "id": "01875b94",
   "metadata": {},
   "outputs": [],
   "source": [
    "df.drop(columns=['Unnamed: 0','neg','neu','pos','compound','Rating','Review_Length'],inplace=True)\n",
    "df.rename({'Review':'review','label':'sentiment'},axis=1,inplace=True)"
   ]
  },
  {
   "cell_type": "code",
   "execution_count": 6,
   "id": "3115fbd4",
   "metadata": {},
   "outputs": [
    {
     "data": {
      "text/html": [
       "<div>\n",
       "<style scoped>\n",
       "    .dataframe tbody tr th:only-of-type {\n",
       "        vertical-align: middle;\n",
       "    }\n",
       "\n",
       "    .dataframe tbody tr th {\n",
       "        vertical-align: top;\n",
       "    }\n",
       "\n",
       "    .dataframe thead th {\n",
       "        text-align: right;\n",
       "    }\n",
       "</style>\n",
       "<table border=\"1\" class=\"dataframe\">\n",
       "  <thead>\n",
       "    <tr style=\"text-align: right;\">\n",
       "      <th></th>\n",
       "      <th>review</th>\n",
       "      <th>sentiment</th>\n",
       "    </tr>\n",
       "  </thead>\n",
       "  <tbody>\n",
       "    <tr>\n",
       "      <th>0</th>\n",
       "      <td>nice hotel expensive parking got good deal sta...</td>\n",
       "      <td>positive</td>\n",
       "    </tr>\n",
       "    <tr>\n",
       "      <th>1</th>\n",
       "      <td>ok nothing special charge diamond member hilto...</td>\n",
       "      <td>positive</td>\n",
       "    </tr>\n",
       "    <tr>\n",
       "      <th>2</th>\n",
       "      <td>nice rooms not 4* experience hotel monaco seat...</td>\n",
       "      <td>positive</td>\n",
       "    </tr>\n",
       "    <tr>\n",
       "      <th>3</th>\n",
       "      <td>unique, great stay, wonderful time hotel monac...</td>\n",
       "      <td>positive</td>\n",
       "    </tr>\n",
       "    <tr>\n",
       "      <th>4</th>\n",
       "      <td>great stay great stay, went seahawk game aweso...</td>\n",
       "      <td>positive</td>\n",
       "    </tr>\n",
       "    <tr>\n",
       "      <th>...</th>\n",
       "      <td>...</td>\n",
       "      <td>...</td>\n",
       "    </tr>\n",
       "    <tr>\n",
       "      <th>20486</th>\n",
       "      <td>best kept secret 3rd time staying charm, not 5...</td>\n",
       "      <td>positive</td>\n",
       "    </tr>\n",
       "    <tr>\n",
       "      <th>20487</th>\n",
       "      <td>great location price view hotel great quick pl...</td>\n",
       "      <td>positive</td>\n",
       "    </tr>\n",
       "    <tr>\n",
       "      <th>20488</th>\n",
       "      <td>ok just looks nice modern outside, desk staff ...</td>\n",
       "      <td>positive</td>\n",
       "    </tr>\n",
       "    <tr>\n",
       "      <th>20489</th>\n",
       "      <td>hotel theft ruined vacation hotel opened sept ...</td>\n",
       "      <td>positive</td>\n",
       "    </tr>\n",
       "    <tr>\n",
       "      <th>20490</th>\n",
       "      <td>people talking, ca n't believe excellent ratin...</td>\n",
       "      <td>negative</td>\n",
       "    </tr>\n",
       "  </tbody>\n",
       "</table>\n",
       "<p>20491 rows × 2 columns</p>\n",
       "</div>"
      ],
      "text/plain": [
       "                                                  review sentiment\n",
       "0      nice hotel expensive parking got good deal sta...  positive\n",
       "1      ok nothing special charge diamond member hilto...  positive\n",
       "2      nice rooms not 4* experience hotel monaco seat...  positive\n",
       "3      unique, great stay, wonderful time hotel monac...  positive\n",
       "4      great stay great stay, went seahawk game aweso...  positive\n",
       "...                                                  ...       ...\n",
       "20486  best kept secret 3rd time staying charm, not 5...  positive\n",
       "20487  great location price view hotel great quick pl...  positive\n",
       "20488  ok just looks nice modern outside, desk staff ...  positive\n",
       "20489  hotel theft ruined vacation hotel opened sept ...  positive\n",
       "20490  people talking, ca n't believe excellent ratin...  negative\n",
       "\n",
       "[20491 rows x 2 columns]"
      ]
     },
     "execution_count": 6,
     "metadata": {},
     "output_type": "execute_result"
    }
   ],
   "source": [
    "df"
   ]
  },
  {
   "cell_type": "code",
   "execution_count": 7,
   "id": "e598e553",
   "metadata": {},
   "outputs": [],
   "source": [
    "def preprocess_data(data):\n",
    "    # Convert text to lowercase\n",
    "    data['review'] = data['review'].str.strip().str.lower()\n",
    "    return data\n",
    "\n",
    "df = preprocess_data(df)"
   ]
  },
  {
   "cell_type": "markdown",
   "id": "f0f354a5",
   "metadata": {},
   "source": [
    "# <span style=\"color:red\">MODEL BUILDING"
   ]
  },
  {
   "cell_type": "code",
   "execution_count": 8,
   "id": "371d2033",
   "metadata": {},
   "outputs": [],
   "source": [
    "#train test split\n",
    "X_train, X_test, y_train, y_test = train_test_split(df['review'], df['sentiment'].values, test_size=0.30)"
   ]
  },
  {
   "cell_type": "code",
   "execution_count": 9,
   "id": "b34f3a59",
   "metadata": {},
   "outputs": [],
   "source": [
    "#Tfidf Vectorizer\n",
    "vectorizer = TfidfVectorizer()\n",
    "vectorizer.fit(X_train)\n",
    "#Vectorizing the X_train\n",
    "X_train_tf = vectorizer.transform(X_train)\n",
    "X_train_tf = X_train_tf.toarray()\n",
    "#Vectorizing the X_test\n",
    "X_test_tf = vectorizer.transform(X_test)\n",
    "X_test_tf = X_test_tf.toarray()"
   ]
  },
  {
   "cell_type": "markdown",
   "id": "83256e69",
   "metadata": {},
   "source": [
    "## <span style=\"color:TEAL\">NAIVE BAYES"
   ]
  },
  {
   "cell_type": "code",
   "execution_count": 10,
   "id": "48038de3",
   "metadata": {},
   "outputs": [],
   "source": [
    "#Multinomial Naive Bayes\n",
    "mnb = MultinomialNB()\n",
    "mnb.fit(X_train_tf, y_train)\n",
    "y_preds_mnb = mnb.predict(X_test_tf)"
   ]
  },
  {
   "cell_type": "code",
   "execution_count": 11,
   "id": "b94bcf91",
   "metadata": {},
   "outputs": [
    {
     "name": "stdout",
     "output_type": "stream",
     "text": [
      "0.9209499024072869\n",
      "              precision    recall  f1-score   support\n",
      "\n",
      "    negative       0.00      0.00      0.00       486\n",
      "    positive       0.92      1.00      0.96      5662\n",
      "\n",
      "    accuracy                           0.92      6148\n",
      "   macro avg       0.46      0.50      0.48      6148\n",
      "weighted avg       0.85      0.92      0.88      6148\n",
      "\n"
     ]
    }
   ],
   "source": [
    "#printing accuracy score and classification report\n",
    "print(accuracy_score(y_test, y_preds_mnb))\n",
    "print(classification_report(y_test, y_preds_mnb))"
   ]
  },
  {
   "cell_type": "code",
   "execution_count": 12,
   "id": "46b5ef1b",
   "metadata": {},
   "outputs": [
    {
     "data": {
      "text/plain": [
       "array(['positive'], dtype='<U8')"
      ]
     },
     "execution_count": 12,
     "metadata": {},
     "output_type": "execute_result"
    }
   ],
   "source": [
    "#predicting on new review (negative)\n",
    "mnb.predict(vectorizer.transform(['hate this hotel simply awful!']).toarray())"
   ]
  },
  {
   "cell_type": "code",
   "execution_count": 13,
   "id": "86696469",
   "metadata": {},
   "outputs": [
    {
     "data": {
      "text/plain": [
       "array(['positive'], dtype='<U8')"
      ]
     },
     "execution_count": 13,
     "metadata": {},
     "output_type": "execute_result"
    }
   ],
   "source": [
    "#predicting on new review (positive)\n",
    "mnb.predict(vectorizer.transform(['Love this hotel simply awesome!']).toarray())"
   ]
  },
  {
   "cell_type": "code",
   "execution_count": 79,
   "id": "2a55ddd8",
   "metadata": {},
   "outputs": [
    {
     "data": {
      "text/plain": [
       "array(['positive'], dtype='<U8')"
      ]
     },
     "execution_count": 79,
     "metadata": {},
     "output_type": "execute_result"
    }
   ],
   "source": [
    "#predicting on new review (positive)\n",
    "mnb.predict(vectorizer.transform([\"I recently had the pleasure of staying at this hotel, and it exceeded all of my expectations! From the moment I arrived, I was greeted with warm smiles and exceptional hospitality from the staff. The room was immaculate, spacious, and tastefully decorated, providing a cozy and inviting atmosphere. The bed was incredibly comfortable, ensuring a restful night's sleep. The hotel's amenities, including the pool and fitness center, were top-notch and well-maintained. The location was fantastic, conveniently close to restaurants, shops, and attractions. Overall, my experience was nothing short of outstanding, and I can't wait to return for another memorable stay!\"]).toarray())"
   ]
  },
  {
   "cell_type": "code",
   "execution_count": 80,
   "id": "bf571433",
   "metadata": {},
   "outputs": [
    {
     "data": {
      "text/plain": [
       "array(['positive'], dtype='<U8')"
      ]
     },
     "execution_count": 80,
     "metadata": {},
     "output_type": "execute_result"
    }
   ],
   "source": [
    "#predicting on new review (negative)\n",
    "mnb.predict(vectorizer.transform([\"My stay at this hotel was a complete disappointment. The room was dirty and poorly maintained, with peeling wallpaper and musty odors. The bathroom was in dire need of renovation, with cracked tiles and mold in the shower. Despite requesting a non-smoking room, I could still smell cigarette smoke, making the experience unpleasant. The staff were unhelpful and seemed disinterested in addressing my complaints. Overall, I regret staying at this hotel and would not consider returning in the future.\"]).toarray())"
   ]
  },
  {
   "cell_type": "markdown",
   "id": "35f34257",
   "metadata": {},
   "source": [
    "**<span style=\"color:blue\">OVERSAMPLING / UNDERSAMPLING**"
   ]
  },
  {
   "cell_type": "code",
   "execution_count": 14,
   "id": "33f3bbec",
   "metadata": {},
   "outputs": [],
   "source": [
    "#user-defined method to check accuracy with different sampling techniques\n",
    "def run_model(X,y,model):\n",
    "    X_train, X_test, y_train, y_test = train_test_split(X, y, test_size=0.30)\n",
    "    print(Counter(y_train))\n",
    "    \n",
    "    vectorizer_smote = TfidfVectorizer()\n",
    "    vectorizer_smote.fit(X_train)\n",
    "    X_train_vec = vectorizer_smote.transform(X_train)\n",
    "    X_train_vec = X_train_vec.toarray()\n",
    "    X_test_vec = vectorizer_smote.transform(X_test)\n",
    "    X_test_vec = X_test_vec.toarray()\n",
    "    \n",
    "    oversample = model\n",
    "    X_train_over, y_train_over = oversample.fit_resample(X_train_vec, y_train)\n",
    "    print(Counter(y_train_over))\n",
    "    \n",
    "    nb = GaussianNB()\n",
    "    nb.fit(X_train_over, y_train_over)\n",
    "    y_preds = nb.predict(X_test_vec)\n",
    "    score = accuracy_score(y_test,y_preds)\n",
    "    print(\"Accuracy: \",score)\n",
    "    return score\n",
    "\n",
    "X=df['review']\n",
    "y= df['sentiment'].values"
   ]
  },
  {
   "cell_type": "code",
   "execution_count": 15,
   "id": "6b5664b9",
   "metadata": {},
   "outputs": [
    {
     "name": "stdout",
     "output_type": "stream",
     "text": [
      "Counter({'positive': 13207, 'negative': 1136})\n",
      "Counter({'positive': 13207, 'negative': 13183})\n",
      "Accuracy:  0.8292127521145087\n"
     ]
    }
   ],
   "source": [
    "#Over-sampling by Adaptive Synthetic Sampling method\n",
    "oversample = ADASYN()\n",
    "ov1=run_model(X,y,model=oversample)"
   ]
  },
  {
   "cell_type": "code",
   "execution_count": 16,
   "id": "a0b09572",
   "metadata": {},
   "outputs": [
    {
     "name": "stdout",
     "output_type": "stream",
     "text": [
      "Counter({'positive': 13220, 'negative': 1123})\n",
      "Counter({'positive': 13220, 'negative': 13220})\n",
      "Accuracy:  0.8305139882888745\n"
     ]
    }
   ],
   "source": [
    "#Over-sampling by Borderline SMOTE method\n",
    "oversample=BorderlineSMOTE()\n",
    "ov2=run_model(X,y,model=oversample)"
   ]
  },
  {
   "cell_type": "code",
   "execution_count": 17,
   "id": "6decf4c1",
   "metadata": {},
   "outputs": [
    {
     "name": "stdout",
     "output_type": "stream",
     "text": [
      "Counter({'positive': 13203, 'negative': 1140})\n",
      "Counter({'positive': 13203, 'negative': 13203})\n",
      "Accuracy:  0.8293754066363045\n"
     ]
    }
   ],
   "source": [
    "#Over-sampling by RandomOverSampler method\n",
    "oversample= RandomOverSampler()\n",
    "ov3=run_model(X,y,model=oversample)"
   ]
  },
  {
   "cell_type": "code",
   "execution_count": 18,
   "id": "553111d0",
   "metadata": {},
   "outputs": [
    {
     "name": "stdout",
     "output_type": "stream",
     "text": [
      "Counter({'positive': 13186, 'negative': 1157})\n",
      "Counter({'negative': 1157, 'positive': 1157})\n",
      "Accuracy:  0.6751789199739753\n"
     ]
    }
   ],
   "source": [
    "#Over-sampling by RandomUnderSampler method\n",
    "undersample=RandomUnderSampler()\n",
    "un1=run_model(X,y,model=undersample)"
   ]
  },
  {
   "cell_type": "code",
   "execution_count": 19,
   "id": "c5aed9b0",
   "metadata": {},
   "outputs": [
    {
     "name": "stdout",
     "output_type": "stream",
     "text": [
      "Counter({'positive': 13161, 'negative': 1182})\n",
      "Counter({'positive': 11468, 'negative': 1182})\n",
      "Accuracy:  0.8266102797657775\n"
     ]
    }
   ],
   "source": [
    "#Under-sampling by All K-Nearest Neighbours method.\n",
    "undersample=AllKNN()\n",
    "un2=run_model(X,y,model=undersample)"
   ]
  },
  {
   "cell_type": "code",
   "execution_count": 20,
   "id": "1f65a3d1",
   "metadata": {},
   "outputs": [
    {
     "name": "stdout",
     "output_type": "stream",
     "text": [
      "Counter({'positive': 13200, 'negative': 1143})\n",
      "Counter({'negative': 1143, 'positive': 1143})\n",
      "Accuracy:  0.6278464541314248\n"
     ]
    }
   ],
   "source": [
    "#Under-sampling by NearMiss method\n",
    "undersample=NearMiss(version=1)\n",
    "un3=run_model(X,y,model=undersample)"
   ]
  },
  {
   "cell_type": "code",
   "execution_count": 21,
   "id": "473acf17",
   "metadata": {},
   "outputs": [
    {
     "name": "stdout",
     "output_type": "stream",
     "text": [
      "Counter({'positive': 13206, 'negative': 1137})\n",
      "Counter({'positive': 13086, 'negative': 1137})\n",
      "Accuracy:  0.8376707872478855\n"
     ]
    }
   ],
   "source": [
    "#Under-sampling by removing Tomek's links.\n",
    "undersample=TomekLinks()\n",
    "un4=run_model(X,y,model=undersample)"
   ]
  },
  {
   "cell_type": "code",
   "execution_count": 59,
   "id": "d01bfc6d",
   "metadata": {},
   "outputs": [
    {
     "data": {
      "text/html": [
       "<div>\n",
       "<style scoped>\n",
       "    .dataframe tbody tr th:only-of-type {\n",
       "        vertical-align: middle;\n",
       "    }\n",
       "\n",
       "    .dataframe tbody tr th {\n",
       "        vertical-align: top;\n",
       "    }\n",
       "\n",
       "    .dataframe thead th {\n",
       "        text-align: right;\n",
       "    }\n",
       "</style>\n",
       "<table border=\"1\" class=\"dataframe\">\n",
       "  <thead>\n",
       "    <tr style=\"text-align: right;\">\n",
       "      <th></th>\n",
       "      <th>Method</th>\n",
       "      <th>Accuracy</th>\n",
       "    </tr>\n",
       "  </thead>\n",
       "  <tbody>\n",
       "    <tr>\n",
       "      <th>0</th>\n",
       "      <td>ADASYN</td>\n",
       "      <td>0.829213</td>\n",
       "    </tr>\n",
       "    <tr>\n",
       "      <th>1</th>\n",
       "      <td>BorderlineSMOTE</td>\n",
       "      <td>0.830514</td>\n",
       "    </tr>\n",
       "    <tr>\n",
       "      <th>2</th>\n",
       "      <td>RandomOverSampler</td>\n",
       "      <td>0.829375</td>\n",
       "    </tr>\n",
       "    <tr>\n",
       "      <th>3</th>\n",
       "      <td>RandomUnderSampler</td>\n",
       "      <td>0.675179</td>\n",
       "    </tr>\n",
       "    <tr>\n",
       "      <th>4</th>\n",
       "      <td>AllKNN</td>\n",
       "      <td>0.826610</td>\n",
       "    </tr>\n",
       "    <tr>\n",
       "      <th>5</th>\n",
       "      <td>NearMiss</td>\n",
       "      <td>0.627846</td>\n",
       "    </tr>\n",
       "    <tr>\n",
       "      <th>6</th>\n",
       "      <td>TomekLinks</td>\n",
       "      <td>0.837671</td>\n",
       "    </tr>\n",
       "  </tbody>\n",
       "</table>\n",
       "</div>"
      ],
      "text/plain": [
       "               Method  Accuracy\n",
       "0              ADASYN  0.829213\n",
       "1     BorderlineSMOTE  0.830514\n",
       "2   RandomOverSampler  0.829375\n",
       "3  RandomUnderSampler  0.675179\n",
       "4              AllKNN  0.826610\n",
       "5            NearMiss  0.627846\n",
       "6          TomekLinks  0.837671"
      ]
     },
     "execution_count": 59,
     "metadata": {},
     "output_type": "execute_result"
    }
   ],
   "source": [
    "#dataframe displays the various sampling methods and their accuracies\n",
    "sample = pd.DataFrame({'Method':['ADASYN','BorderlineSMOTE','RandomOverSampler','RandomUnderSampler',\n",
    "                                 'AllKNN','NearMiss','TomekLinks'],\n",
    "                      'Accuracy':[ov1,ov2,ov3,un1,un2,un3,un4]})\n",
    "sample"
   ]
  },
  {
   "cell_type": "code",
   "execution_count": 60,
   "id": "75be73dc",
   "metadata": {},
   "outputs": [
    {
     "data": {
      "text/plain": [
       "<Axes: xlabel='Accuracy', ylabel='Method'>"
      ]
     },
     "execution_count": 60,
     "metadata": {},
     "output_type": "execute_result"
    },
    {
     "data": {
      "image/png": "[encoded data removed]",
      "text/plain": [
       "<Figure size 640x480 with 1 Axes>"
      ]
     },
     "metadata": {},
     "output_type": "display_data"
    }
   ],
   "source": [
    "#plotting the sampling methods and their accuracies\n",
    "sns.barplot(data=sample,x='Accuracy',y='Method')"
   ]
  },
  {
   "cell_type": "code",
   "execution_count": 23,
   "id": "0c888ba2",
   "metadata": {},
   "outputs": [],
   "source": [
    "#RandomOverSampling is chosen to balance the imabalanced data\n",
    "ROS = RandomOverSampler()\n",
    "X_train_ros, y_train_ros = ROS.fit_resample(X_train_tf, y_train)"
   ]
  },
  {
   "cell_type": "markdown",
   "id": "c8e1044e",
   "metadata": {},
   "source": [
    "## <span style=\"color:TEAL\">LOGISTIC REGRESSION"
   ]
  },
  {
   "cell_type": "code",
   "execution_count": 24,
   "id": "f338d355",
   "metadata": {},
   "outputs": [],
   "source": [
    "#Logistic Regression\n",
    "logisticReg = LogisticRegression()\n",
    "logisticReg.fit(X_train_ros, y_train_ros)\n",
    "y_preds_lr = logisticReg.predict(X_test_tf)"
   ]
  },
  {
   "cell_type": "code",
   "execution_count": 113,
   "id": "f4c0e926",
   "metadata": {},
   "outputs": [
    {
     "name": "stdout",
     "output_type": "stream",
     "text": [
      "Accuracy: 0.9276187378009109\n",
      "              precision    recall  f1-score   support\n",
      "\n",
      "    negative       0.53      0.83      0.64       486\n",
      "    positive       0.98      0.94      0.96      5662\n",
      "\n",
      "    accuracy                           0.93      6148\n",
      "   macro avg       0.76      0.88      0.80      6148\n",
      "weighted avg       0.95      0.93      0.93      6148\n",
      "\n"
     ]
    }
   ],
   "source": [
    "#printing accuracy score and classification report of test data\n",
    "lr = accuracy_score(y_test, y_preds_lr)\n",
    "print('Accuracy:',lr)\n",
    "print(classification_report(y_test, y_preds_lr))"
   ]
  },
  {
   "cell_type": "code",
   "execution_count": 114,
   "id": "f993c7ae",
   "metadata": {},
   "outputs": [
    {
     "name": "stdout",
     "output_type": "stream",
     "text": [
      "Accuracy: 0.9552394896465175\n"
     ]
    }
   ],
   "source": [
    "#printing accuracy score of train data\n",
    "y_preds_lrt = logisticReg.predict(X_train_tf)\n",
    "lrt = accuracy_score(y_train, y_preds_lrt)\n",
    "print('Accuracy:',lrt)"
   ]
  },
  {
   "cell_type": "code",
   "execution_count": 26,
   "id": "e25c2d3a",
   "metadata": {},
   "outputs": [
    {
     "data": {
      "text/plain": [
       "array(['negative'], dtype=object)"
      ]
     },
     "execution_count": 26,
     "metadata": {},
     "output_type": "execute_result"
    }
   ],
   "source": [
    "#predicting on new review (negative)\n",
    "logisticReg.predict(vectorizer.transform(['hate this hotel simply awful!']).toarray())"
   ]
  },
  {
   "cell_type": "code",
   "execution_count": 27,
   "id": "d9b5c29e",
   "metadata": {},
   "outputs": [
    {
     "data": {
      "text/plain": [
       "array(['positive'], dtype=object)"
      ]
     },
     "execution_count": 27,
     "metadata": {},
     "output_type": "execute_result"
    }
   ],
   "source": [
    "#predicting on new review (positive)\n",
    "logisticReg.predict(vectorizer.transform(['Love this hotel simply awesome!']).toarray())"
   ]
  },
  {
   "cell_type": "code",
   "execution_count": 81,
   "id": "9aeab7fd",
   "metadata": {},
   "outputs": [
    {
     "data": {
      "text/plain": [
       "array(['negative'], dtype=object)"
      ]
     },
     "execution_count": 81,
     "metadata": {},
     "output_type": "execute_result"
    }
   ],
   "source": [
    "#predicting on new review (negative)\n",
    "logisticReg.predict(vectorizer.transform([\"My stay at this hotel was a complete disappointment. The room was dirty and poorly maintained, with peeling wallpaper and musty odors. The bathroom was in dire need of renovation, with cracked tiles and mold in the shower. Despite requesting a non-smoking room, I could still smell cigarette smoke, making the experience unpleasant. The staff were unhelpful and seemed disinterested in addressing my complaints. Overall, I regret staying at this hotel and would not consider returning in the future.\"]).toarray())"
   ]
  },
  {
   "cell_type": "code",
   "execution_count": 82,
   "id": "35b6b13c",
   "metadata": {},
   "outputs": [
    {
     "data": {
      "text/plain": [
       "array(['positive'], dtype=object)"
      ]
     },
     "execution_count": 82,
     "metadata": {},
     "output_type": "execute_result"
    }
   ],
   "source": [
    "#predicting on new review (positive)\n",
    "logisticReg.predict(vectorizer.transform([\"I recently had the pleasure of staying at this hotel, and it exceeded all of my expectations! From the moment I arrived, I was greeted with warm smiles and exceptional hospitality from the staff. The room was immaculate, spacious, and tastefully decorated, providing a cozy and inviting atmosphere. The bed was incredibly comfortable, ensuring a restful night's sleep. The hotel's amenities, including the pool and fitness center, were top-notch and well-maintained. The location was fantastic, conveniently close to restaurants, shops, and attractions. Overall, my experience was nothing short of outstanding, and I can't wait to return for another memorable stay!\"]).toarray())"
   ]
  },
  {
   "cell_type": "markdown",
   "id": "6bc69f0e",
   "metadata": {},
   "source": [
    "## <span style=\"color:TEAL\">RANDOM FOREST"
   ]
  },
  {
   "cell_type": "code",
   "execution_count": 28,
   "id": "d2e80bab",
   "metadata": {},
   "outputs": [],
   "source": [
    "#Random Forest \n",
    "rf = RandomForestClassifier()\n",
    "rf.fit(X_train_ros, y_train_ros)\n",
    "y_preds_rf = rf.predict(X_test_tf)"
   ]
  },
  {
   "cell_type": "code",
   "execution_count": 29,
   "id": "e61f772c",
   "metadata": {},
   "outputs": [
    {
     "name": "stdout",
     "output_type": "stream",
     "text": [
      "0.930871828236825\n",
      "              precision    recall  f1-score   support\n",
      "\n",
      "    negative       0.78      0.17      0.29       486\n",
      "    positive       0.93      1.00      0.96      5662\n",
      "\n",
      "    accuracy                           0.93      6148\n",
      "   macro avg       0.86      0.59      0.62      6148\n",
      "weighted avg       0.92      0.93      0.91      6148\n",
      "\n"
     ]
    }
   ],
   "source": [
    "#printing accuracy score and classification report on test data\n",
    "rf_acc = accuracy_score(y_test, y_preds_rf)\n",
    "print('Accuracy:',rf_acc)\n",
    "print(classification_report(y_test, y_preds_rf))"
   ]
  },
  {
   "cell_type": "code",
   "execution_count": 95,
   "id": "aea057d9",
   "metadata": {},
   "outputs": [
    {
     "name": "stdout",
     "output_type": "stream",
     "text": [
      "Accuracy Score: 1.0\n"
     ]
    }
   ],
   "source": [
    "#printing accuracy score of train data\n",
    "y_preds_rft = rf.predict(X_train_tf)\n",
    "rf_acc_t = accuracy_score(y_train, y_preds_rft)\n",
    "print('Accuracy:',rf_acc_t)"
   ]
  },
  {
   "cell_type": "code",
   "execution_count": 96,
   "id": "aa98462a",
   "metadata": {},
   "outputs": [],
   "source": [
    "#hyper-parameter tuning for Random Forest \n",
    "#estimator_rf = RandomForestClassifier()\n",
    "#param_rf = [{'max_depth': [2,None],'min_samples_leaf': [2,5],'n_estimators': [100,300],'max_depth':[10,50],'min_samples_split':[2,10]}]\n",
    "#rf_random = RandomizedSearchCV(estimator = estimator_rf, param_distributions = param_rf, n_iter = 10, cv = 2, verbose=2, random_state=42, n_jobs = -1)\n",
    "#rf_random.fit(X_train_ros, y_train_ros)"
   ]
  },
  {
   "cell_type": "code",
   "execution_count": 30,
   "id": "e541f81f",
   "metadata": {},
   "outputs": [
    {
     "data": {
      "text/plain": [
       "array(['negative'], dtype=object)"
      ]
     },
     "execution_count": 30,
     "metadata": {},
     "output_type": "execute_result"
    }
   ],
   "source": [
    "#predicting on new review (negative)\n",
    "rf.predict(vectorizer.transform(['hate this hotel simply awful!']).toarray())"
   ]
  },
  {
   "cell_type": "code",
   "execution_count": 31,
   "id": "c7c833f3",
   "metadata": {},
   "outputs": [
    {
     "data": {
      "text/plain": [
       "array(['positive'], dtype=object)"
      ]
     },
     "execution_count": 31,
     "metadata": {},
     "output_type": "execute_result"
    }
   ],
   "source": [
    "#predicting on new review (positive)\n",
    "rf.predict(vectorizer.transform(['Love this hotel simply awesome!']).toarray())"
   ]
  },
  {
   "cell_type": "code",
   "execution_count": 83,
   "id": "ec635503",
   "metadata": {},
   "outputs": [
    {
     "data": {
      "text/plain": [
       "array(['negative'], dtype=object)"
      ]
     },
     "execution_count": 83,
     "metadata": {},
     "output_type": "execute_result"
    }
   ],
   "source": [
    "#predicting on new review (negative)\n",
    "rf.predict(vectorizer.transform([\"My stay at this hotel was a complete disappointment. The room was dirty and poorly maintained, with peeling wallpaper and musty odors. The bathroom was in dire need of renovation, with cracked tiles and mold in the shower. Despite requesting a non-smoking room, I could still smell cigarette smoke, making the experience unpleasant. The staff were unhelpful and seemed disinterested in addressing my complaints. Overall, I regret staying at this hotel and would not consider returning in the future.\"]).toarray())"
   ]
  },
  {
   "cell_type": "code",
   "execution_count": 84,
   "id": "7d771c8e",
   "metadata": {},
   "outputs": [
    {
     "data": {
      "text/plain": [
       "array(['positive'], dtype=object)"
      ]
     },
     "execution_count": 84,
     "metadata": {},
     "output_type": "execute_result"
    }
   ],
   "source": [
    "#predicting on new review (positive)\n",
    "rf.predict(vectorizer.transform([\"I recently had the pleasure of staying at this hotel, and it exceeded all of my expectations! From the moment I arrived, I was greeted with warm smiles and exceptional hospitality from the staff. The room was immaculate, spacious, and tastefully decorated, providing a cozy and inviting atmosphere. The bed was incredibly comfortable, ensuring a restful night's sleep. The hotel's amenities, including the pool and fitness center, were top-notch and well-maintained. The location was fantastic, conveniently close to restaurants, shops, and attractions. Overall, my experience was nothing short of outstanding, and I can't wait to return for another memorable stay!\"]).toarray())"
   ]
  },
  {
   "cell_type": "markdown",
   "id": "f90928a3",
   "metadata": {},
   "source": [
    "## <span style=\"color:TEAL\">LIGHT GRADIENT BOOSTING MACHINE (LGBM)"
   ]
  },
  {
   "cell_type": "code",
   "execution_count": 75,
   "id": "92daf34e",
   "metadata": {},
   "outputs": [
    {
     "name": "stdout",
     "output_type": "stream",
     "text": [
      "[LightGBM] [Info] Number of positive: 13200, number of negative: 13200\n",
      "[LightGBM] [Info] Auto-choosing col-wise multi-threading, the overhead of testing was 0.969855 seconds.\n",
      "You can set `force_col_wise=true` to remove the overhead.\n",
      "[LightGBM] [Info] Total Bins 335646\n",
      "[LightGBM] [Info] Number of data points in the train set: 26400, number of used features: 7906\n",
      "[LightGBM] [Info] [binary:BoostFromScore]: pavg=0.500000 -> initscore=0.000000\n"
     ]
    }
   ],
   "source": [
    "#LGBM\n",
    "lgbm = LGBMClassifier()\n",
    "lgbm.fit(X_train_ros, y_train_ros)\n",
    "y_preds_lgbm = lgbm.predict(X_test_tf)"
   ]
  },
  {
   "cell_type": "code",
   "execution_count": 111,
   "id": "ee7ddd95",
   "metadata": {},
   "outputs": [
    {
     "name": "stdout",
     "output_type": "stream",
     "text": [
      "Accuaracy: 0.930871828236825\n",
      "              precision    recall  f1-score   support\n",
      "\n",
      "    negative       0.55      0.75      0.63       486\n",
      "    positive       0.98      0.95      0.96      5662\n",
      "\n",
      "    accuracy                           0.93      6148\n",
      "   macro avg       0.76      0.85      0.80      6148\n",
      "weighted avg       0.94      0.93      0.94      6148\n",
      "\n"
     ]
    }
   ],
   "source": [
    "#printing accuracy score and classification report of test data\n",
    "lg = accuracy_score(y_test, y_preds_lgbm)\n",
    "print('Accuaracy:',lg)\n",
    "print(classification_report(y_test, y_preds_lgbm))"
   ]
  },
  {
   "cell_type": "code",
   "execution_count": 97,
   "id": "b426ab6c",
   "metadata": {},
   "outputs": [
    {
     "name": "stdout",
     "output_type": "stream",
     "text": [
      "Accuracy Score: 0.977061981454368\n"
     ]
    }
   ],
   "source": [
    "#printing accuracy score of train data\n",
    "y_preds_lgt = lgbm.predict(X_train_tf)\n",
    "lgt = accuracy_score(y_train, y_preds_lgt)\n",
    "print('Accuracy:',lgt)"
   ]
  },
  {
   "cell_type": "code",
   "execution_count": 77,
   "id": "a0cd31c5",
   "metadata": {},
   "outputs": [],
   "source": [
    "#hyper-parameter tuning for LGBM\n",
    "#param_grid = {'num_leaves': [5, 20],'learning_rate': [0.05, 0.2],'n_estimators': [50, 100]}\n",
    "#lgb_classifier = lgb.LGBMClassifier(objective='binary', num_class=1)\n",
    "#rcv = RandomizedSearchCV(estimator=lgb_classifier, param_distributions=param_grid,scoring='accuracy', cv=2)\n",
    "#rcv.fit(X_train_ros, y_train_ros)\n",
    "#print(\"Best Parameters:\",rcv.best_params_)\n",
    "#print(\"Best Score:\",rcv.best_score_)"
   ]
  },
  {
   "cell_type": "code",
   "execution_count": 34,
   "id": "767d1ab0",
   "metadata": {},
   "outputs": [
    {
     "data": {
      "text/plain": [
       "array(['negative'], dtype=object)"
      ]
     },
     "execution_count": 34,
     "metadata": {},
     "output_type": "execute_result"
    }
   ],
   "source": [
    "#predicting on new review (negative)\n",
    "lgbm.predict(vectorizer.transform(['hate this hotel simply awful!']).toarray())"
   ]
  },
  {
   "cell_type": "code",
   "execution_count": 35,
   "id": "37c17c9f",
   "metadata": {},
   "outputs": [
    {
     "data": {
      "text/plain": [
       "array(['positive'], dtype=object)"
      ]
     },
     "execution_count": 35,
     "metadata": {},
     "output_type": "execute_result"
    }
   ],
   "source": [
    "#predicting on new review (positive)\n",
    "lgbm.predict(vectorizer.transform(['Love this hotel simply awesome!']).toarray())"
   ]
  },
  {
   "cell_type": "code",
   "execution_count": 85,
   "id": "b76bfb04",
   "metadata": {},
   "outputs": [
    {
     "data": {
      "text/plain": [
       "array(['negative'], dtype=object)"
      ]
     },
     "execution_count": 85,
     "metadata": {},
     "output_type": "execute_result"
    }
   ],
   "source": [
    "#predicting on new review (negative)\n",
    "lgbm.predict(vectorizer.transform([\"My stay at this hotel was a complete disappointment. The room was dirty and poorly maintained, with peeling wallpaper and musty odors. The bathroom was in dire need of renovation, with cracked tiles and mold in the shower. Despite requesting a non-smoking room, I could still smell cigarette smoke, making the experience unpleasant. The staff were unhelpful and seemed disinterested in addressing my complaints. Overall, I regret staying at this hotel and would not consider returning in the future.\"]).toarray())"
   ]
  },
  {
   "cell_type": "code",
   "execution_count": 86,
   "id": "a2a0cbdf",
   "metadata": {},
   "outputs": [
    {
     "data": {
      "text/plain": [
       "array(['positive'], dtype=object)"
      ]
     },
     "execution_count": 86,
     "metadata": {},
     "output_type": "execute_result"
    }
   ],
   "source": [
    "#predicting on new review (positive)\n",
    "lgbm.predict(vectorizer.transform([\"I recently had the pleasure of staying at this hotel, and it exceeded all of my expectations! From the moment I arrived, I was greeted with warm smiles and exceptional hospitality from the staff. The room was immaculate, spacious, and tastefully decorated, providing a cozy and inviting atmosphere. The bed was incredibly comfortable, ensuring a restful night's sleep. The hotel's amenities, including the pool and fitness center, were top-notch and well-maintained. The location was fantastic, conveniently close to restaurants, shops, and attractions. Overall, my experience was nothing short of outstanding, and I can't wait to return for another memorable stay!\"]).toarray())"
   ]
  },
  {
   "cell_type": "markdown",
   "id": "c9697b16",
   "metadata": {},
   "source": [
    "## <span style=\"color:TEAL\">EXTREME GRADIENT BOOSTING (XGBOOST)"
   ]
  },
  {
   "cell_type": "code",
   "execution_count": 100,
   "id": "768eabff",
   "metadata": {},
   "outputs": [],
   "source": [
    "#Label Encoding on the 'sentiment' label (0:negative, 1:positive)\n",
    "encoder = LabelEncoder()\n",
    "df['sentiment'] = encoder.fit_transform(df['sentiment'])\n",
    "\n",
    "X_tr, X_te, y_tr, y_te = train_test_split(df['review'], df['sentiment'].values, test_size=0.30)\n",
    "vec = TfidfVectorizer()\n",
    "vec.fit(X_tr)\n",
    "X_tr_tf = vec.transform(X_tr)\n",
    "X_tr_tf = X_tr_tf.toarray()\n",
    "X_te_tf = vec.transform(X_te)\n",
    "X_te_tf = X_te_tf.toarray()\n",
    "\n",
    "r = RandomOverSampler()\n",
    "X_tr_ros, y_tr_ros = r.fit_resample(X_tr_tf, y_tr)"
   ]
  },
  {
   "cell_type": "code",
   "execution_count": 101,
   "id": "6e1c8886",
   "metadata": {},
   "outputs": [],
   "source": [
    "#XGBoost\n",
    "xgb = XGBClassifier()\n",
    "xgb.fit(X_tr_ros, y_tr_ros)\n",
    "y_preds_xgb = xgb.predict(X_te_tf)"
   ]
  },
  {
   "cell_type": "code",
   "execution_count": 102,
   "id": "e29a4a05",
   "metadata": {},
   "outputs": [
    {
     "name": "stdout",
     "output_type": "stream",
     "text": [
      "Accuracy: 0.936890045543266\n",
      "              precision    recall  f1-score   support\n",
      "\n",
      "           0       0.58      0.67      0.62       479\n",
      "           1       0.97      0.96      0.97      5669\n",
      "\n",
      "    accuracy                           0.94      6148\n",
      "   macro avg       0.78      0.81      0.79      6148\n",
      "weighted avg       0.94      0.94      0.94      6148\n",
      "\n"
     ]
    }
   ],
   "source": [
    "#printing accuracy score and classification report of test data\n",
    "xg = accuracy_score(y_te, y_preds_xgb)\n",
    "print('Accuracy:',xg)\n",
    "print(classification_report(y_te, y_preds_xgb))"
   ]
  },
  {
   "cell_type": "code",
   "execution_count": 103,
   "id": "228ec2e0",
   "metadata": {},
   "outputs": [
    {
     "name": "stdout",
     "output_type": "stream",
     "text": [
      "Accuracy: 0.9854284319877292\n"
     ]
    }
   ],
   "source": [
    "#printing accuracy score of train data\n",
    "y_preds_xgt = xgb.predict(X_tr_tf)\n",
    "xgt = accuracy_score(y_tr, y_preds_xgt)\n",
    "print('Accuracy:',xgt)"
   ]
  },
  {
   "cell_type": "code",
   "execution_count": 104,
   "id": "1d8a0a8a",
   "metadata": {},
   "outputs": [],
   "source": [
    "#hyper-parameter tuning for XGBoost\n",
    "#param_dist = {'max_depth': [3,10],'learning_rate': [0.01,0.1],'n_estimators':[50,100]}\n",
    "#xgb_model = XGBClassifier()\n",
    "#random_search = RandomizedSearchCV(xgb_model, param_distributions=param_dist, n_iter=10, cv=2, scoring='accuracy')\n",
    "#random_search.fit(X_tr_ros, y_tr_ros)\n",
    "#print(\"Best set of hyperparameters: \", random_search.best_params_)\n",
    "#print(\"Best score: \", random_search.best_score_)"
   ]
  },
  {
   "cell_type": "code",
   "execution_count": 105,
   "id": "43f993f4",
   "metadata": {},
   "outputs": [
    {
     "data": {
      "text/plain": [
       "array([0])"
      ]
     },
     "execution_count": 105,
     "metadata": {},
     "output_type": "execute_result"
    }
   ],
   "source": [
    "#predicting on new review (negative)\n",
    "xgb.predict(vec.transform(['hate this hotel simply awful!']).toarray())"
   ]
  },
  {
   "cell_type": "code",
   "execution_count": 106,
   "id": "81f90713",
   "metadata": {},
   "outputs": [
    {
     "data": {
      "text/plain": [
       "array([1])"
      ]
     },
     "execution_count": 106,
     "metadata": {},
     "output_type": "execute_result"
    }
   ],
   "source": [
    "#predicting on new review (positive)\n",
    "xgb.predict(vec.transform(['Love this hotel simply awesome!']).toarray())"
   ]
  },
  {
   "cell_type": "code",
   "execution_count": 107,
   "id": "c762f2cd",
   "metadata": {},
   "outputs": [
    {
     "data": {
      "text/plain": [
       "array([0])"
      ]
     },
     "execution_count": 107,
     "metadata": {},
     "output_type": "execute_result"
    }
   ],
   "source": [
    "#predicting on new review (negative)\n",
    "xgb.predict(vec.transform([\"My stay at this hotel was a complete disappointment. The room was dirty and poorly maintained, with peeling wallpaper and musty odors. The bathroom was in dire need of renovation, with cracked tiles and mold in the shower. Despite requesting a non-smoking room, I could still smell cigarette smoke, making the experience unpleasant. The staff were unhelpful and seemed disinterested in addressing my complaints. Overall, I regret staying at this hotel and would not consider returning in the future.\"]).toarray())"
   ]
  },
  {
   "cell_type": "code",
   "execution_count": 108,
   "id": "7e977b90",
   "metadata": {},
   "outputs": [
    {
     "data": {
      "text/plain": [
       "array([1])"
      ]
     },
     "execution_count": 108,
     "metadata": {},
     "output_type": "execute_result"
    }
   ],
   "source": [
    "#predicting on new review (positive)\n",
    "xgb.predict(vec.transform([\"I recently had the pleasure of staying at this hotel, and it exceeded all of my expectations! From the moment I arrived, I was greeted with warm smiles and exceptional hospitality from the staff. The room was immaculate, spacious, and tastefully decorated, providing a cozy and inviting atmosphere. The bed was incredibly comfortable, ensuring a restful night's sleep. The hotel's amenities, including the pool and fitness center, were top-notch and well-maintained. The location was fantastic, conveniently close to restaurants, shops, and attractions. Overall, my experience was nothing short of outstanding, and I can't wait to return for another memorable stay!\"]).toarray())"
   ]
  },
  {
   "cell_type": "markdown",
   "id": "80ca5be9",
   "metadata": {},
   "source": [
    "## <span style=\"color:TEAL\">NAIVE BAYES"
   ]
  },
  {
   "cell_type": "code",
   "execution_count": 42,
   "id": "187238f0",
   "metadata": {},
   "outputs": [],
   "source": [
    "#Multinomial Naive Bayes\n",
    "nb = MultinomialNB()\n",
    "nb.fit(X_train_ros, y_train_ros)\n",
    "y_preds_nb = nb.predict(X_test_tf)"
   ]
  },
  {
   "cell_type": "code",
   "execution_count": 112,
   "id": "3c9ad50c",
   "metadata": {},
   "outputs": [
    {
     "name": "stdout",
     "output_type": "stream",
     "text": [
      "Accuracy: 0.9056603773584906\n",
      "              precision    recall  f1-score   support\n",
      "\n",
      "    negative       0.45      0.81      0.58       486\n",
      "    positive       0.98      0.91      0.95      5662\n",
      "\n",
      "    accuracy                           0.91      6148\n",
      "   macro avg       0.71      0.86      0.76      6148\n",
      "weighted avg       0.94      0.91      0.92      6148\n",
      "\n"
     ]
    }
   ],
   "source": [
    "#printing accuracy score and classification report\n",
    "nb_acc = accuracy_score(y_test, y_preds_nb)\n",
    "print('Accuracy:',nb_acc)\n",
    "print(classification_report(y_test, y_preds_nb))"
   ]
  },
  {
   "cell_type": "code",
   "execution_count": 118,
   "id": "40251b5b",
   "metadata": {},
   "outputs": [
    {
     "name": "stdout",
     "output_type": "stream",
     "text": [
      "Accuracy: 0.9270724395175347\n"
     ]
    }
   ],
   "source": [
    "#printing accuracy score of train data\n",
    "y_preds_nbt = nb.predict(X_train_tf)\n",
    "nbt = accuracy_score(y_train, y_preds_nbt)\n",
    "print('Accuracy:',nbt)"
   ]
  },
  {
   "cell_type": "code",
   "execution_count": 44,
   "id": "d5b79603",
   "metadata": {},
   "outputs": [
    {
     "data": {
      "text/plain": [
       "array(['negative'], dtype='<U8')"
      ]
     },
     "execution_count": 44,
     "metadata": {},
     "output_type": "execute_result"
    }
   ],
   "source": [
    "#predicting on new review (negative)\n",
    "nb.predict(vectorizer.transform(['hate this hotel simply awful!']).toarray())"
   ]
  },
  {
   "cell_type": "code",
   "execution_count": 45,
   "id": "15539bb1",
   "metadata": {},
   "outputs": [
    {
     "data": {
      "text/plain": [
       "array(['positive'], dtype='<U8')"
      ]
     },
     "execution_count": 45,
     "metadata": {},
     "output_type": "execute_result"
    }
   ],
   "source": [
    "#predicting on new review (positive)\n",
    "nb.predict(vectorizer.transform(['Love this hotel simply awesome!']).toarray())"
   ]
  },
  {
   "cell_type": "code",
   "execution_count": 91,
   "id": "9cf1925b",
   "metadata": {},
   "outputs": [
    {
     "data": {
      "text/plain": [
       "array(['negative'], dtype='<U8')"
      ]
     },
     "execution_count": 91,
     "metadata": {},
     "output_type": "execute_result"
    }
   ],
   "source": [
    "#predicting on new review (negative)\n",
    "nb.predict(vectorizer.transform([\"My stay at this hotel was a complete disappointment. The room was dirty and poorly maintained, with peeling wallpaper and musty odors. The bathroom was in dire need of renovation, with cracked tiles and mold in the shower. Despite requesting a non-smoking room, I could still smell cigarette smoke, making the experience unpleasant. The staff were unhelpful and seemed disinterested in addressing my complaints. Overall, I regret staying at this hotel and would not consider returning in the future.\"]).toarray())"
   ]
  },
  {
   "cell_type": "code",
   "execution_count": 92,
   "id": "66992bcb",
   "metadata": {},
   "outputs": [
    {
     "data": {
      "text/plain": [
       "array(['positive'], dtype='<U8')"
      ]
     },
     "execution_count": 92,
     "metadata": {},
     "output_type": "execute_result"
    }
   ],
   "source": [
    "#predicting on new review (positive)\n",
    "nb.predict(vectorizer.transform([\"I recently had the pleasure of staying at this hotel, and it exceeded all of my expectations! From the moment I arrived, I was greeted with warm smiles and exceptional hospitality from the staff. The room was immaculate, spacious, and tastefully decorated, providing a cozy and inviting atmosphere. The bed was incredibly comfortable, ensuring a restful night's sleep. The hotel's amenities, including the pool and fitness center, were top-notch and well-maintained. The location was fantastic, conveniently close to restaurants, shops, and attractions. Overall, my experience was nothing short of outstanding, and I can't wait to return for another memorable stay!\"]).toarray())"
   ]
  },
  {
   "cell_type": "markdown",
   "id": "27cb603e",
   "metadata": {},
   "source": [
    "## <span style=\"color:TEAL\">LONG SHORT TERM MEMORY (LSTM)"
   ]
  },
  {
   "cell_type": "code",
   "execution_count": 50,
   "id": "c88ba592",
   "metadata": {},
   "outputs": [
    {
     "name": "stdout",
     "output_type": "stream",
     "text": [
      "Epoch 1/10\n",
      "641/641 [==============================] - 31s 45ms/step - loss: 0.2061 - accuracy: 0.9260\n",
      "Epoch 2/10\n",
      "641/641 [==============================] - 28s 44ms/step - loss: 0.1139 - accuracy: 0.9580\n",
      "Epoch 3/10\n",
      "641/641 [==============================] - 31s 48ms/step - loss: 0.0701 - accuracy: 0.9761\n",
      "Epoch 4/10\n",
      "641/641 [==============================] - 32s 50ms/step - loss: 0.0411 - accuracy: 0.9863\n",
      "Epoch 5/10\n",
      "641/641 [==============================] - 32s 50ms/step - loss: 0.0250 - accuracy: 0.9929\n",
      "Epoch 6/10\n",
      "641/641 [==============================] - 32s 50ms/step - loss: 0.0154 - accuracy: 0.9954\n",
      "Epoch 7/10\n",
      "641/641 [==============================] - 7745s 12s/step - loss: 0.0118 - accuracy: 0.9967\n",
      "Epoch 8/10\n",
      "641/641 [==============================] - 74s 116ms/step - loss: 0.0093 - accuracy: 0.9972\n",
      "Epoch 9/10\n",
      "641/641 [==============================] - 67s 104ms/step - loss: 0.0074 - accuracy: 0.9982\n",
      "Epoch 10/10\n",
      "641/641 [==============================] - 84s 131ms/step - loss: 0.0094 - accuracy: 0.9974\n"
     ]
    },
    {
     "data": {
      "text/plain": [
       "<keras.src.callbacks.History at 0x2af450a69e0>"
      ]
     },
     "execution_count": 50,
     "metadata": {},
     "output_type": "execute_result"
    }
   ],
   "source": [
    "texts = df['review']\n",
    "labels = df['sentiment']\n",
    "\n",
    "#hyperparameters\n",
    "max_words = 10000 \n",
    "max_len = 100 \n",
    "embedding_dim = 100 \n",
    "lstm_units = 64 \n",
    "num_classes = 2\n",
    "\n",
    "#tokenize the texts then create a vocabulary\n",
    "tokenizer = Tokenizer(num_words=max_words)\n",
    "tokenizer.fit_on_texts(texts)\n",
    "sequences = tokenizer.texts_to_sequences(texts)\n",
    "\n",
    "#pad the sequences so they all have the same length\n",
    "x = pad_sequences(sequences, maxlen=max_len)\n",
    "#create one-hot encoded labels\n",
    "y = keras.utils.to_categorical(labels, num_classes)\n",
    "\n",
    "#LSTM model\n",
    "model = Sequential()\n",
    "model.add(Embedding(max_words, embedding_dim, input_length=max_len))\n",
    "model.add(LSTM(lstm_units))\n",
    "model.add(Dense(2, activation='softmax'))\n",
    "\n",
    "#compiling and fitting the model \n",
    "model.compile(loss='categorical_crossentropy', optimizer='adam', metrics=['accuracy'])\n",
    "model.fit(x, y, batch_size=32, epochs=10)"
   ]
  },
  {
   "cell_type": "code",
   "execution_count": 51,
   "id": "59ccb591",
   "metadata": {},
   "outputs": [
    {
     "name": "stdout",
     "output_type": "stream",
     "text": [
      "641/641 [==============================] - 36s 51ms/step - loss: 0.0043 - accuracy: 0.9987\n",
      "Loss: 0.004348233342170715\n",
      "Accuracy: 0.9986823201179504\n"
     ]
    }
   ],
   "source": [
    "#printing the loss and accuracy of the model\n",
    "loss, accuracy = model.evaluate(x, y)\n",
    "print(\"Loss:\", loss)\n",
    "print(\"Accuracy:\", accuracy)"
   ]
  },
  {
   "cell_type": "code",
   "execution_count": 52,
   "id": "7fa4c610",
   "metadata": {},
   "outputs": [
    {
     "name": "stdout",
     "output_type": "stream",
     "text": [
      "1/1 [==============================] - 3s 3s/step\n",
      "Predicted Sentiment: Negative\n"
     ]
    }
   ],
   "source": [
    "#predicting on new review (negative)\n",
    "input_text = ['hate this hotel simply awful!']\n",
    "sequences = tokenizer.texts_to_sequences(input_text)\n",
    "padded_sequences = pad_sequences(sequences, maxlen=max_len)\n",
    "predictions = model.predict(padded_sequences)\n",
    "predicted_labels = np.argmax(predictions, axis=1)\n",
    "sentiment_classes = {0: 'Negative', 1: 'Positive'}\n",
    "predicted_sentiment = sentiment_classes[predicted_labels[0]]\n",
    "print(\"Predicted Sentiment:\", predicted_sentiment)"
   ]
  },
  {
   "cell_type": "code",
   "execution_count": 53,
   "id": "00b8c31c",
   "metadata": {},
   "outputs": [
    {
     "name": "stdout",
     "output_type": "stream",
     "text": [
      "1/1 [==============================] - 0s 271ms/step\n",
      "Predicted Sentiment: Positive\n"
     ]
    }
   ],
   "source": [
    "#predicting on new review (positive)\n",
    "input_text = [\"lovely stay at this hotel\"]\n",
    "sequences = tokenizer.texts_to_sequences(input_text)\n",
    "padded_sequences = pad_sequences(sequences, maxlen=max_len)\n",
    "predictions = model.predict(padded_sequences)\n",
    "predicted_labels = np.argmax(predictions, axis=1)\n",
    "sentiment_classes = {0: 'Negative', 1: 'Positive'}\n",
    "predicted_sentiment = sentiment_classes[predicted_labels[0]]\n",
    "print(\"Predicted Sentiment:\", predicted_sentiment)"
   ]
  },
  {
   "cell_type": "code",
   "execution_count": 109,
   "id": "102c03c6",
   "metadata": {},
   "outputs": [
    {
     "name": "stdout",
     "output_type": "stream",
     "text": [
      "1/1 [==============================] - 0s 166ms/step\n",
      "Predicted Sentiment: Negative\n"
     ]
    }
   ],
   "source": [
    "#predicting on new review (negative)\n",
    "input_text = [\"My stay at this hotel was a complete disappointment. The room was dirty and poorly maintained, with peeling wallpaper and musty odors. The bathroom was in dire need of renovation, with cracked tiles and mold in the shower. Despite requesting a non-smoking room, I could still smell cigarette smoke, making the experience unpleasant. The staff were unhelpful and seemed disinterested in addressing my complaints. Overall, I regret staying at this hotel and would not consider returning in the future.\"]\n",
    "sequences = tokenizer.texts_to_sequences(input_text)\n",
    "padded_sequences = pad_sequences(sequences, maxlen=max_len)\n",
    "predictions = model.predict(padded_sequences)\n",
    "predicted_labels = np.argmax(predictions, axis=1)\n",
    "sentiment_classes = {0: 'Negative', 1: 'Positive'}\n",
    "predicted_sentiment = sentiment_classes[predicted_labels[0]]\n",
    "print(\"Predicted Sentiment:\", predicted_sentiment)"
   ]
  },
  {
   "cell_type": "code",
   "execution_count": 110,
   "id": "9de18c19",
   "metadata": {},
   "outputs": [
    {
     "name": "stdout",
     "output_type": "stream",
     "text": [
      "1/1 [==============================] - 0s 36ms/step\n",
      "Predicted Sentiment: Positive\n"
     ]
    }
   ],
   "source": [
    "#predicting on new review (positive)\n",
    "input_text = [\"I recently had the pleasure of staying at this hotel, and it exceeded all of my expectations! From the moment I arrived, I was greeted with warm smiles and exceptional hospitality from the staff. The room was immaculate, spacious, and tastefully decorated, providing a cozy and inviting atmosphere. The bed was incredibly comfortable, ensuring a restful night's sleep. The hotel's amenities, including the pool and fitness center, were top-notch and well-maintained. The location was fantastic, conveniently close to restaurants, shops, and attractions. Overall, my experience was nothing short of outstanding, and I can't wait to return for another memorable stay!\"]\n",
    "sequences = tokenizer.texts_to_sequences(input_text)\n",
    "padded_sequences = pad_sequences(sequences, maxlen=max_len)\n",
    "predictions = model.predict(padded_sequences)\n",
    "predicted_labels = np.argmax(predictions, axis=1)\n",
    "sentiment_classes = {0: 'Negative', 1: 'Positive'}\n",
    "predicted_sentiment = sentiment_classes[predicted_labels[0]]\n",
    "print(\"Predicted Sentiment:\", predicted_sentiment)"
   ]
  },
  {
   "cell_type": "markdown",
   "id": "60676e71",
   "metadata": {},
   "source": [
    "**<span style=\"color:blue\">CHOOSING THE FINAL MODEL**"
   ]
  },
  {
   "cell_type": "code",
   "execution_count": 117,
   "id": "dab4ca3d",
   "metadata": {},
   "outputs": [
    {
     "data": {
      "text/html": [
       "<div>\n",
       "<style scoped>\n",
       "    .dataframe tbody tr th:only-of-type {\n",
       "        vertical-align: middle;\n",
       "    }\n",
       "\n",
       "    .dataframe tbody tr th {\n",
       "        vertical-align: top;\n",
       "    }\n",
       "\n",
       "    .dataframe thead th {\n",
       "        text-align: right;\n",
       "    }\n",
       "</style>\n",
       "<table border=\"1\" class=\"dataframe\">\n",
       "  <thead>\n",
       "    <tr style=\"text-align: right;\">\n",
       "      <th></th>\n",
       "      <th>Model</th>\n",
       "      <th>Accuracy</th>\n",
       "    </tr>\n",
       "  </thead>\n",
       "  <tbody>\n",
       "    <tr>\n",
       "      <th>5</th>\n",
       "      <td>LSTM</td>\n",
       "      <td>99.868232</td>\n",
       "    </tr>\n",
       "    <tr>\n",
       "      <th>3</th>\n",
       "      <td>XGBOOST</td>\n",
       "      <td>93.689005</td>\n",
       "    </tr>\n",
       "    <tr>\n",
       "      <th>1</th>\n",
       "      <td>Random Forest</td>\n",
       "      <td>93.087183</td>\n",
       "    </tr>\n",
       "    <tr>\n",
       "      <th>2</th>\n",
       "      <td>LGBM</td>\n",
       "      <td>93.087183</td>\n",
       "    </tr>\n",
       "    <tr>\n",
       "      <th>0</th>\n",
       "      <td>Logistic Regression</td>\n",
       "      <td>92.761874</td>\n",
       "    </tr>\n",
       "    <tr>\n",
       "      <th>4</th>\n",
       "      <td>Naive Bayes</td>\n",
       "      <td>90.566038</td>\n",
       "    </tr>\n",
       "  </tbody>\n",
       "</table>\n",
       "</div>"
      ],
      "text/plain": [
       "                 Model   Accuracy\n",
       "5                 LSTM  99.868232\n",
       "3              XGBOOST  93.689005\n",
       "1        Random Forest  93.087183\n",
       "2                 LGBM  93.087183\n",
       "0  Logistic Regression  92.761874\n",
       "4          Naive Bayes  90.566038"
      ]
     },
     "execution_count": 117,
     "metadata": {},
     "output_type": "execute_result"
    }
   ],
   "source": [
    "#dataframe displaying various models and their accuracies \n",
    "acc = pd.DataFrame({'Model':['Logistic Regression','Random Forest','LGBM','XGBOOST','Naive Bayes','LSTM'],\n",
    "                   'Accuracy':[lr*100,rf_acc*100, lg*100, xg*100, nb_acc*100, accuracy*100]})\n",
    "acc.sort_values(by='Accuracy',ascending=False)"
   ]
  },
  {
   "cell_type": "markdown",
   "id": "c903b49b",
   "metadata": {},
   "source": [
    "# <span style=\"color:red\"> STREAMLIT DEPLOYMENT"
   ]
  },
  {
   "cell_type": "code",
   "execution_count": 120,
   "id": "b2b18959",
   "metadata": {},
   "outputs": [],
   "source": [
    "import pickle\n",
    "with open('tokenizer.pkl', 'wb') as f:\n",
    "    pickle.dump(tokenizer, f)\n",
    "\n",
    "filename = 'classify.sav'\n",
    "pickle.dump(model, open(filename, 'wb'))"
   ]
  }
 ],
 "metadata": {
  "kernelspec": {
   "display_name": "Python 3 (ipykernel)",
   "language": "python",
   "name": "python3"
  },
  "language_info": {
   "codemirror_mode": {
    "name": "ipython",
    "version": 3
   },
   "file_extension": ".py",
   "mimetype": "text/x-python",
   "name": "python",
   "nbconvert_exporter": "python",
   "pygments_lexer": "ipython3",
   "version": "3.11.8"
  }
 },
 "nbformat": 4,
 "nbformat_minor": 5
}
